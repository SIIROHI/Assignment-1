{
  "nbformat": 4,
  "nbformat_minor": 0,
  "metadata": {
    "colab": {
      "name": "Assignment4 solution",
      "provenance": [],
      "collapsed_sections": [],
      "authorship_tag": "ABX9TyPLs4fJ+ZPaix7EQGhJ9vL0",
      "include_colab_link": true
    },
    "kernelspec": {
      "name": "python3",
      "display_name": "Python 3"
    },
    "language_info": {
      "name": "python"
    }
  },
  "cells": [
    {
      "cell_type": "markdown",
      "metadata": {
        "id": "view-in-github",
        "colab_type": "text"
      },
      "source": [
        "<a href=\"https://colab.research.google.com/github/SIIROHI/Assignment-1/blob/main/Assignment4_solution.ipynb\" target=\"_parent\"><img src=\"https://colab.research.google.com/assets/colab-badge.svg\" alt=\"Open In Colab\"/></a>"
      ]
    },
    {
      "cell_type": "code",
      "execution_count": null,
      "metadata": {
        "colab": {
          "base_uri": "https://localhost:8080/"
        },
        "id": "Gcd_cMiBnKAv",
        "outputId": "032b6af1-ff60-4ca9-dafa-f302188b4d3d"
      },
      "outputs": [
        {
          "name": "stdout",
          "output_type": "stream",
          "text": [
            "5\n"
          ]
        },
        {
          "output_type": "execute_result",
          "data": {
            "text/plain": [
              "120"
            ]
          },
          "metadata": {},
          "execution_count": 4
        }
      ],
      "source": [
        "#ques1: 1.\tComputing factorial of a given integer using both recursive and iterative procedures (for/while loop).\n",
        "# using for loop \n",
        "\n",
        "def get_factorial_for_loop(n):\n",
        "    result = 1\n",
        "    if n > 1:\n",
        "        for i in range(1, n+1):\n",
        "            result = result * i\n",
        "        return result\n",
        "    else:\n",
        "        return 'n has to be positive'\n",
        "n= int(input())\n",
        "get_factorial_for_loop(n)       "
      ]
    },
    {
      "cell_type": "code",
      "source": [
        "# using while loop\n",
        "def get_factorial_while_loop(n):\n",
        "    result = 1\n",
        "    while n > 1:\n",
        "        result = result * n\n",
        "        n -= 1\n",
        "    return result\n",
        "n= int(input())\n",
        "get_factorial_for_loop(n)     "
      ],
      "metadata": {
        "colab": {
          "base_uri": "https://localhost:8080/"
        },
        "id": "omEJ4RXYr68O",
        "outputId": "0064d255-fd5e-4f25-b7c5-140a85078fa1"
      },
      "execution_count": null,
      "outputs": [
        {
          "name": "stdout",
          "output_type": "stream",
          "text": [
            "5\n"
          ]
        },
        {
          "output_type": "execute_result",
          "data": {
            "text/plain": [
              "120"
            ]
          },
          "metadata": {},
          "execution_count": 5
        }
      ]
    },
    {
      "cell_type": "code",
      "source": [
        "# using recursion\n",
        "\n",
        "def get_factorial_recursively(n):\n",
        "    if n <= 1:\n",
        "        return 1\n",
        "    else:\n",
        "        return n * get_factorial_recursively(n-1)\n",
        "inp = input(\"Enter a number: \")\n",
        "inp = int(inp)\n",
        "\n",
        "print(f\"The result is: {get_factorial_recursively(inp)}\")        "
      ],
      "metadata": {
        "colab": {
          "base_uri": "https://localhost:8080/"
        },
        "id": "XACR5tH9sG5S",
        "outputId": "7d224b41-95b9-4d13-bf88-5b9339553909"
      },
      "execution_count": null,
      "outputs": [
        {
          "output_type": "stream",
          "name": "stdout",
          "text": [
            "Enter a number: 4\n",
            "The result is: 24\n"
          ]
        }
      ]
    },
    {
      "cell_type": "code",
      "source": [
        "\n",
        "#Ques2: \n",
        "\n",
        "result=divmod(20,2)\n",
        "print(result)"
      ],
      "metadata": {
        "colab": {
          "base_uri": "https://localhost:8080/"
        },
        "id": "Sda1uKV3_nbl",
        "outputId": "8b0b8774-516b-491f-86ca-8f62519b9a1b"
      },
      "execution_count": null,
      "outputs": [
        {
          "output_type": "stream",
          "name": "stdout",
          "text": [
            "(10, 0)\n"
          ]
        }
      ]
    },
    {
      "cell_type": "code",
      "source": [
        "3#QUES2: A)\n",
        "\n",
        "callable(divmod)"
      ],
      "metadata": {
        "colab": {
          "base_uri": "https://localhost:8080/"
        },
        "id": "d-LldBTF_0fJ",
        "outputId": "d65adfb8-a54d-4f58-f5ba-6098653e9a89"
      },
      "execution_count": null,
      "outputs": [
        {
          "output_type": "execute_result",
          "data": {
            "text/plain": [
              "True"
            ]
          },
          "metadata": {},
          "execution_count": 10
        }
      ]
    },
    {
      "cell_type": "code",
      "source": [
        "# Ques 2: b)\n",
        "all(result)"
      ],
      "metadata": {
        "colab": {
          "base_uri": "https://localhost:8080/"
        },
        "id": "h0yKqvvo_8A2",
        "outputId": "f4d48730-95df-4ece-9e9c-117d74318f83"
      },
      "execution_count": null,
      "outputs": [
        {
          "output_type": "execute_result",
          "data": {
            "text/plain": [
              "False"
            ]
          },
          "metadata": {},
          "execution_count": 32
        }
      ]
    },
    {
      "cell_type": "code",
      "source": [
        "#ques2: c)\n",
        "\n",
        "result = result + (4,5,6)\n",
        "print(result)\n",
        "list(filter(lambda result:result>5 ,(result)))"
      ],
      "metadata": {
        "colab": {
          "base_uri": "https://localhost:8080/"
        },
        "id": "DdAX5jzDDH7r",
        "outputId": "31a9e59c-a6ff-4433-acfd-7fab1092c90f"
      },
      "execution_count": null,
      "outputs": [
        {
          "output_type": "stream",
          "name": "stdout",
          "text": [
            "(10, 0, 4, 5, 6)\n"
          ]
        },
        {
          "output_type": "execute_result",
          "data": {
            "text/plain": [
              "[10, 6]"
            ]
          },
          "metadata": {},
          "execution_count": 52
        }
      ]
    },
    {
      "cell_type": "code",
      "source": [
        "#ques2: d)\n",
        "\n",
        "set(result)"
      ],
      "metadata": {
        "colab": {
          "base_uri": "https://localhost:8080/"
        },
        "id": "ZhINLtkyDkWR",
        "outputId": "05d35a00-d68a-4a33-ecce-d33a7a38e238"
      },
      "execution_count": null,
      "outputs": [
        {
          "output_type": "execute_result",
          "data": {
            "text/plain": [
              "{0, 4, 5, 6, 10}"
            ]
          },
          "metadata": {},
          "execution_count": 55
        }
      ]
    },
    {
      "cell_type": "code",
      "source": [
        "#ques2: e)\n",
        "frozenset(result)"
      ],
      "metadata": {
        "colab": {
          "base_uri": "https://localhost:8080/"
        },
        "id": "f5jFuTnHEYGO",
        "outputId": "302f34df-551c-4e93-87d2-d2199db2ec3e"
      },
      "execution_count": null,
      "outputs": [
        {
          "output_type": "execute_result",
          "data": {
            "text/plain": [
              "frozenset({0, 4, 5, 6, 10})"
            ]
          },
          "metadata": {},
          "execution_count": 56
        }
      ]
    },
    {
      "cell_type": "code",
      "source": [
        "# ques2: f)\n",
        "hash(max(result))\n"
      ],
      "metadata": {
        "colab": {
          "base_uri": "https://localhost:8080/"
        },
        "id": "oyKJ0NVaElur",
        "outputId": "8b061c27-a330-4c29-8b43-d964ffb44606"
      },
      "execution_count": null,
      "outputs": [
        {
          "output_type": "execute_result",
          "data": {
            "text/plain": [
              "10"
            ]
          },
          "metadata": {},
          "execution_count": 114
        }
      ]
    },
    {
      "cell_type": "code",
      "source": [
        "'''ques3: 3.\tWrite a program to implement binary search with static input as all the digits of your roll number and search\n",
        "\n",
        " and print the index of any element. Also, specify the element in your output whose index is to be searched.'''\n",
        "\n",
        "def binary_search(my_list, low, high, elem):\n",
        "   if high >= low:\n",
        "      mid = (high + low) // 2\n",
        "      if my_list[mid] == elem:\n",
        "         return mid\n",
        "      elif my_list[mid] > elem:\n",
        "         return binary_search(my_list, low, mid - 1, elem)\n",
        "      else:\n",
        "         return binary_search(my_list, mid + 1, high, elem)\n",
        "   else:\n",
        "      return -1\n",
        "     \n",
        "my_list = [ 2, 1, 1, 0, 4, 0, 4, 0 ]\n",
        "elem_to_search = 0\n",
        "print(\"The list is\")\n",
        "print(my_list)\n",
        "\n",
        "my_result = binary_search(my_list,0,len(my_list)-1,elem_to_search)\n",
        "\n",
        "if my_result != -1:\n",
        "   print(\"Element %d\" % elem_to_search, \"found at index \", str(my_result))\n",
        "else:\n",
        "   print(\"Element not found!\")"
      ],
      "metadata": {
        "colab": {
          "base_uri": "https://localhost:8080/"
        },
        "id": "YAM7DiQqa8fo",
        "outputId": "85ac31ae-f361-4585-c99b-5d6bee949cd6"
      },
      "execution_count": null,
      "outputs": [
        {
          "output_type": "stream",
          "name": "stdout",
          "text": [
            "The list is\n",
            "[2, 1, 1, 0, 4, 0, 4, 0]\n",
            "Element 0 found at index  3\n"
          ]
        }
      ]
    },
    {
      "cell_type": "code",
      "source": [
        "#ques4: 4.\tCreate a class named Student, use the_init_() function to assign values for name and roll number.\n",
        "\n",
        "class Student:\n",
        "  def __init__(self, name, rollno,):\n",
        "    self.name = name\n",
        "    self.rollno = rollno\n",
        "\n",
        "p1 = Student(\"Daanisha\", 40)\n",
        "\n",
        "print(p1.name)\n",
        "print(p1.rollno)"
      ],
      "metadata": {
        "colab": {
          "base_uri": "https://localhost:8080/"
        },
        "id": "zA_0YUx4d3Vg",
        "outputId": "a35dba15-9e2b-4265-95b4-aaf92eb16ea6"
      },
      "execution_count": null,
      "outputs": [
        {
          "output_type": "stream",
          "name": "stdout",
          "text": [
            "Daanisha\n",
            "40\n"
          ]
        }
      ]
    },
    {
      "cell_type": "code",
      "source": [
        "# Ques 5: 5.\tWrite a program to store details of two employe: name and salary using class\n",
        "\n",
        "class Employee:\n",
        "   'Common base class for all employees'\n",
        "   empCount = 0\n",
        "\n",
        "   def __init__(self, name, salary):\n",
        "      self.name = name\n",
        "      self.salary = salary\n",
        "      Employee.empCount += 1\n",
        "   \n",
        "   def displayCount(self):\n",
        "     print (\"Total Employee %d\" % Employee.empCount)\n",
        "\n",
        "   def displayEmployee(self):\n",
        "      print (\"Name : \", self.name,  \", Salary: \", self.salary)\n",
        "\"This would create first object of Employee class\"\n",
        "emp1 = Employee(\"Mehak\", 40000)\n",
        "\"This would create second object of Employee class\"\n",
        "emp2 = Employee(\"Ashok\", 50000)\n",
        "\"This would create first object of Employee class\"\n",
        "emp3 = Employee('Viren', 60000)\n",
        "emp1.displayEmployee()\n",
        "emp2.displayEmployee()\n",
        "emp3.displayEmployee()\n",
        "print (\"Total Employee %d\" % Employee.empCount)  \n"
      ],
      "metadata": {
        "colab": {
          "base_uri": "https://localhost:8080/"
        },
        "id": "ZEUHQ-wXhykJ",
        "outputId": "c77d183b-4cf5-42e1-d957-c30a1a56b446"
      },
      "execution_count": null,
      "outputs": [
        {
          "output_type": "stream",
          "name": "stdout",
          "text": [
            "Name :  Mehak , Salary:  40000\n",
            "Name :  Ashok , Salary:  50000\n",
            "Name :  Viren , Salary:  60000\n",
            "Total Employee 3\n"
          ]
        }
      ]
    },
    {
      "cell_type": "code",
      "source": [
        "#Ques5: a)\n",
        "\n",
        "emp1.salary = 70000\n",
        "emp1.displayEmployee()"
      ],
      "metadata": {
        "colab": {
          "base_uri": "https://localhost:8080/"
        },
        "id": "cwzjtu-nmlyO",
        "outputId": "365b8a6a-8741-4e2e-d690-f47d52cdbfa9"
      },
      "execution_count": null,
      "outputs": [
        {
          "output_type": "stream",
          "name": "stdout",
          "text": [
            "Name :  Mehak , Salary:  70000\n"
          ]
        }
      ]
    },
    {
      "cell_type": "code",
      "source": [
        "# qes5: b)\n",
        "del emp3\n",
        "emp3.displayEmployee()"
      ],
      "metadata": {
        "colab": {
          "base_uri": "https://localhost:8080/",
          "height": 183
        },
        "id": "CAeLEjv8nXzu",
        "outputId": "d2860dc1-70e5-4106-a2c0-5c1d5a567ec5"
      },
      "execution_count": null,
      "outputs": [
        {
          "output_type": "error",
          "ename": "NameError",
          "evalue": "ignored",
          "traceback": [
            "\u001b[0;31m---------------------------------------------------------------------------\u001b[0m",
            "\u001b[0;31mNameError\u001b[0m                                 Traceback (most recent call last)",
            "\u001b[0;32m<ipython-input-158-befd152da9ab>\u001b[0m in \u001b[0;36m<module>\u001b[0;34m()\u001b[0m\n\u001b[0;32m----> 1\u001b[0;31m \u001b[0;32mdel\u001b[0m \u001b[0memp3\u001b[0m\u001b[0;34m\u001b[0m\u001b[0;34m\u001b[0m\u001b[0m\n\u001b[0m\u001b[1;32m      2\u001b[0m \u001b[0memp3\u001b[0m\u001b[0;34m.\u001b[0m\u001b[0mdisplayEmployee\u001b[0m\u001b[0;34m(\u001b[0m\u001b[0;34m)\u001b[0m\u001b[0;34m\u001b[0m\u001b[0;34m\u001b[0m\u001b[0m\n",
            "\u001b[0;31mNameError\u001b[0m: name 'emp3' is not defined"
          ]
        }
      ]
    }
  ]
}